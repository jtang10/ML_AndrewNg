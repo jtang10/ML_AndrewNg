{
 "cells": [
  {
   "cell_type": "markdown",
   "metadata": {},
   "source": [
    "# Assignment 1 - Logistic Regression"
   ]
  },
  {
   "cell_type": "code",
   "execution_count": 2,
   "metadata": {
    "collapsed": false
   },
   "outputs": [],
   "source": [
    "# %load ../standard_import.txt\n",
    "import pandas as pd\n",
    "import numpy as np\n",
    "import matplotlib as mpl\n",
    "import matplotlib.pyplot as plt\n",
    "\n",
    "from sklearn.preprocessing import PolynomialFeatures\n",
    "from scipy.optimize import minimize\n",
    "\n",
    "pd.set_option('display.notebook_repr_html', False)\n",
    "pd.set_option('display.max_columns', None)\n",
    "pd.set_option('display.max_rows', 150)\n",
    "pd.set_option('display.max_seq_items', None)\n",
    "\n",
    "#%config InlineBackend.figure_formats = {'pdf',}\n",
    "%matplotlib inline\n",
    "\n",
    "import seaborn as sns\n",
    "sns.set_context('notebook')\n",
    "sns.set_style('white')"
   ]
  },
  {
   "cell_type": "markdown",
   "metadata": {},
   "source": [
    "### 1.1 Visualizing the Data"
   ]
  },
  {
   "cell_type": "code",
   "execution_count": 3,
   "metadata": {
    "collapsed": true
   },
   "outputs": [],
   "source": [
    "def plotData(data, label_x='Exam I Score', label_y='Exam II Score', \n",
    "             legend_pos='Admitted', legend_neg='Not Admitted'):\n",
    "    pos = data[:, 2] == 1\n",
    "    neg = data[:, 2] == 0\n",
    "    plt.scatter(data[pos][:, 0], data[pos][:, 1], marker='+', color='k',label=legend_pos)\n",
    "    plt.scatter(data[neg][:, 0], data[neg][:, 1], marker='o', color='y', label=legend_neg)\n",
    "    plt.xlabel(label_x)\n",
    "    plt.ylabel(label_y)\n",
    "    plt.legend(frameon=True)\n",
    "    plt.show()"
   ]
  },
  {
   "cell_type": "code",
   "execution_count": 4,
   "metadata": {
    "collapsed": false
   },
   "outputs": [
    {
     "data": {
      "image/png": "[encoded data removed]",
      "text/plain": [
       "<matplotlib.figure.Figure at 0xc36e748>"
      ]
     },
     "metadata": {},
     "output_type": "display_data"
    }
   ],
   "source": [
    "data = np.loadtxt('ex2/ex2data1.txt', delimiter=',')\n",
    "plotData(data)\n"
   ]
  },
  {
   "cell_type": "code",
   "execution_count": 36,
   "metadata": {
    "collapsed": false
   },
   "outputs": [],
   "source": [
    "X = np.c_[np.ones((data.shape[0],1)), data[:,0:2]]\n",
    "y = data[:, 2]"
   ]
  },
  {
   "cell_type": "markdown",
   "metadata": {},
   "source": [
    "### 1.2 Implementation\n",
    "#### 1.2.1 Sigmoid function"
   ]
  },
  {
   "cell_type": "code",
   "execution_count": 22,
   "metadata": {
    "collapsed": false
   },
   "outputs": [
    {
     "data": {
      "image/png": "[encoded data removed]",
      "text/plain": [
       "<matplotlib.figure.Figure at 0xe5f61d0>"
      ]
     },
     "metadata": {},
     "output_type": "display_data"
    }
   ],
   "source": [
    "def sigmoid(z):\n",
    "    return 1 / (1 + np.exp(-z))\n",
    "\n",
    "z = np.linspace(-10, 10, 101)\n",
    "y = sigmoid(z)\n",
    "fig = plt.figure()\n",
    "ax = fig.add_subplot(1, 1, 1)\n",
    "ax.spines['left'].set_position('center')\n",
    "ax.spines['bottom'].set_position('center')\n",
    "ax.spines['right'].set_color('none')\n",
    "ax.spines['top'].set_color('none')\n",
    "ax.xaxis.set_ticks_position('bottom')\n",
    "ax.yaxis.set_ticks_position('left')\n",
    "upperBound = np.ones(z.shape)\n",
    "lowerBound = np.zeros(z.shape)\n",
    "plt.plot(z, y)\n",
    "plt.plot(z, upperBound, 'r--', z, lowerBound, 'r--')\n",
    "plt.show()"
   ]
  },
  {
   "cell_type": "markdown",
   "metadata": {},
   "source": [
    "##### 1.2.2 Cost Function\n",
    "$$J(\\theta) = \\frac{1}{m}\\sum_{i=1}^{m} [-y^{(i)}\\log \\big(h_\\theta(x^{(i)})\\big)-(1-y^{(i)})\\log \\big(1-h_\\theta(x^{(i)})\\big)]$$"
   ]
  },
  {
   "cell_type": "code",
   "execution_count": 47,
   "metadata": {
    "collapsed": false
   },
   "outputs": [
    {
     "name": "stdout",
     "output_type": "stream",
     "text": [
      "Cost: 0.69314718056\n"
     ]
    }
   ],
   "source": [
    "def costFunction(X, y, theta):\n",
    "    m = y.size\n",
    "    h = sigmoid(X.dot(theta))\n",
    "    J = -1.0/m * (y.T.dot(np.log(h)) + (1.0-y).T.dot(np.log(1.0-h)))\n",
    "    return J\n",
    "\n",
    "theta = np.zeros(X.shape[1])\n",
    "J = costFunction(X, y, theta)\n",
    "print 'Cost:', J"
   ]
  },
  {
   "cell_type": "markdown",
   "metadata": {},
   "source": [
    "##### Gradient of the cost\n",
    "$$\\frac{\\partial J(\\theta)}{\\partial \\theta_j} = \\frac{1}{m}\\sum_{i=1}^{m}\\big(h_\\theta(x^{(i)})-y^{(i)}\\big)x^{(i)}_j$$"
   ]
  },
  {
   "cell_type": "code",
   "execution_count": 48,
   "metadata": {
    "collapsed": false
   },
   "outputs": [
    {
     "name": "stdout",
     "output_type": "stream",
     "text": [
      "Gradient: [ -0.1        -12.00921659 -11.26284221]\n"
     ]
    }
   ],
   "source": [
    "def gradient(X, y, theta):\n",
    "    m = y.size\n",
    "    h = sigmoid(X.dot(theta))\n",
    "    grad = 1.0/m * (h - y).dot(X)\n",
    "    return grad\n",
    "\n",
    "grad = gradient(X, y, theta)\n",
    "print 'Gradient:', grad"
   ]
  },
  {
   "cell_type": "markdown",
   "metadata": {},
   "source": [
    "##### 1.2.3 Learning parameters"
   ]
  },
  {
   "cell_type": "code",
   "execution_count": null,
   "metadata": {
    "collapsed": true
   },
   "outputs": [],
   "source": []
  }
 ],
 "metadata": {
  "kernelspec": {
   "display_name": "Python 2",
   "language": "python",
   "name": "python2"
  },
  "language_info": {
   "codemirror_mode": {
    "name": "ipython",
    "version": 2
   },
   "file_extension": ".py",
   "mimetype": "text/x-python",
   "name": "python",
   "nbconvert_exporter": "python",
   "pygments_lexer": "ipython2",
   "version": "2.7.13"
  }
 },
 "nbformat": 4,
 "nbformat_minor": 2
}
